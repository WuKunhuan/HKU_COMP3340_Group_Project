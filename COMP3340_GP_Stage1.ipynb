{
 "cells": [
  {
   "cell_type": "markdown",
   "metadata": {},
   "source": [
    "# COMP3340 Group Project Stage 1"
   ]
  },
  {
   "cell_type": "markdown",
   "metadata": {},
   "source": [
    "# Introduction"
   ]
  },
  {
   "cell_type": "markdown",
   "metadata": {},
   "source": [
    "Make sure you have followed the HKU CS GPU Farm setup guide in <a href=\"https://github.com/WuKunhuan/HKU_COMP3340/tree/main/HKU%20CS%20GPU%20Farm\" target=\"_blank\">HKU CS GPU Farm</a>. You should be able to view the JupyterLab of the virtual environment in a browser locally. \n",
    "\n",
    "Download this notebook from GitHub, and upload it to the virtual environment. After that, run the following setup module. "
   ]
  },
  {
   "cell_type": "code",
   "execution_count": null,
   "metadata": {},
   "outputs": [],
   "source": [
    "import setup"
   ]
  },
  {
   "cell_type": "markdown",
   "metadata": {},
   "source": [
    "# Basic Models\n",
    "\n",
    "* __AlexNet__\n",
    "Input: ```torch.Size([224, 224, 3])```\n",
    "Output: ```num_classes```\n",
    "\n",
    "* __VGG__\n",
    "Input: ```torch.size([224, 224, 3])```\n",
    "Output: ```num_classes```\n",
    "\n",
    "* __ResNet__\n",
    "Input: ```torch.size([224, 224, 3])```, ```block```, ```layers```\n",
    "Output: ```num_classes```\n",
    "\n",
    "* __Inception__\n",
    "Input: ```torch.size([224, 224, 3])```\n",
    "Output: ```num_classes```"
   ]
  },
  {
   "cell_type": "markdown",
   "metadata": {},
   "source": [
    "## Generate Oxford 17 Dataset"
   ]
  },
  {
   "cell_type": "code",
   "execution_count": null,
   "metadata": {},
   "outputs": [],
   "source": [
    "import models.AlexNet as AlexNet\n",
    "import models.VGG as VGG\n",
    "import models.ResNet as ResNet\n",
    "import models.InceptionV1 as InceptionV1\n",
    "import models.InceptionV4 as InceptionV4"
   ]
  },
  {
   "cell_type": "markdown",
   "metadata": {},
   "source": [
    "# Datasets"
   ]
  },
  {
   "cell_type": "code",
   "execution_count": 7,
   "metadata": {},
   "outputs": [],
   "source": [
    "num_classes = 17\n",
    "# Number of classes in the dataset\n",
    "\n",
    "training_image_ratio = 6; validation_image_ratio = 1; testing_image_ratio = 1\n",
    "# Ratio of {training:validation:testing} image splitting\n",
    "\n",
    "dataset_ratio = 1\n",
    "# (0, 1) means partial dataset will be used. 1 means the whole dataset will be used"
   ]
  },
  {
   "cell_type": "markdown",
   "metadata": {},
   "source": [
    "## Create your own dataset\n",
    "\n",
    "Define the dataset folder structure in the ```/datasets``` folder. \n",
    "\n",
    "You need to state the ```name``` and ```num_classes``` of the dataset. \n",
    "\n",
    "Put your images into the folder structure after running this module. "
   ]
  },
  {
   "cell_type": "markdown",
   "metadata": {},
   "source": [
    "# Experienments"
   ]
  },
  {
   "cell_type": "markdown",
   "metadata": {},
   "source": [
    "# References\n",
    "\n",
    "https://github.com/pytorch/vision/blob/main/torchvision/models/vgg.py  (VGG model)\n",
    "\n",
    "https://pytorch.org/vision/0.8/_modules/torchvision/models/resnet.html (ResNet model)\n",
    "\n",
    "https://github.com/zhulf0804/Inceptionv4_and_Inception-ResNetv2.PyTorch/blob/master/model/inceptionv4.py (Inception model)"
   ]
  }
 ],
 "metadata": {
  "kernelspec": {
   "display_name": "Python 3.10.2 64-bit",
   "language": "python",
   "name": "python3"
  },
  "language_info": {
   "codemirror_mode": {
    "name": "ipython",
    "version": 3
   },
   "file_extension": ".py",
   "mimetype": "text/x-python",
   "name": "python",
   "nbconvert_exporter": "python",
   "pygments_lexer": "ipython3",
   "version": "3.10.2"
  },
  "orig_nbformat": 4,
  "vscode": {
   "interpreter": {
    "hash": "aee8b7b246df8f9039afb4144a1f6fd8d2ca17a180786b69acc140d282b71a49"
   }
  }
 },
 "nbformat": 4,
 "nbformat_minor": 2
}
