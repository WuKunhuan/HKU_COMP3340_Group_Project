{
 "cells": [
  {
   "cell_type": "markdown",
   "metadata": {},
   "source": [
    "# COMP3340 Group Project Stage 1"
   ]
  },
  {
   "cell_type": "markdown",
   "metadata": {},
   "source": [
    "# Introduction"
   ]
  },
  {
   "cell_type": "markdown",
   "metadata": {},
   "source": [
    "Make sure you have followed the HKU CS GPU Farm setup guide in <a href=\"https://github.com/WuKunhuan/HKU_COMP3340/tree/main/HKU%20CS%20GPU%20Farm\" target=\"_blank\">HKU CS GPU Farm</a>. You should be able to view the JupyterLab of the virtual environment in a browser locally. \n",
    "\n",
    "Download this notebook from GitHub, and upload it to the virtual environment. After that, run the following setup module. "
   ]
  },
  {
   "cell_type": "code",
   "execution_count": null,
   "metadata": {},
   "outputs": [],
   "source": [
    "import setup\n",
    "GP_setup = setup.setup()"
   ]
  },
  {
   "cell_type": "markdown",
   "metadata": {},
   "source": [
    "# Basic Models\n",
    "\n",
    "* __AlexNet__\n",
    "Input: ```torch.Size([224, 224, 3])```\n",
    "Output: ```num_classes```\n",
    "\n",
    "* __VGG__\n",
    "Input: ```torch.size([224, 224, 3])```\n",
    "Output: ```num_classes```\n",
    "\n",
    "* __ResNet__\n",
    "Input: ```torch.size([224, 224, 3])```, ```block```, ```layers```\n",
    "Output: ```num_classes```\n",
    "\n",
    "* __Inception__\n",
    "Input: ```torch.size([224, 224, 3])```\n",
    "Output: ```num_classes```"
   ]
  },
  {
   "cell_type": "code",
   "execution_count": null,
   "metadata": {},
   "outputs": [],
   "source": [
    "import models.AlexNet as AlexNet\n",
    "import models.VGG as VGG\n",
    "import models.ResNet as ResNet\n",
    "import models.InceptionV1 as InceptionV1\n",
    "import models.InceptionV4 as InceptionV4"
   ]
  },
  {
   "cell_type": "markdown",
   "metadata": {},
   "source": [
    "# Datasets"
   ]
  },
  {
   "cell_type": "markdown",
   "metadata": {},
   "source": [
    "## Oxford 17 Original Dataset"
   ]
  },
  {
   "cell_type": "code",
   "execution_count": null,
   "metadata": {},
   "outputs": [],
   "source": [
    "import datasets.Oxford_17_Dataset_initialization as Oxford\n",
    "Oxford.Oxford_17_Dataset (GP_setup, \"Original\")"
   ]
  },
  {
   "cell_type": "markdown",
   "metadata": {},
   "source": [
    "Create a copy of the original dataset: "
   ]
  },
  {
   "cell_type": "code",
   "execution_count": null,
   "metadata": {},
   "outputs": [],
   "source": [
    "import datasets.Oxford_17_Dataset_initialization as Oxford\n",
    "Oxford.Oxford_17_Dataset (GP_setup, \"Copies\")"
   ]
  },
  {
   "cell_type": "markdown",
   "metadata": {},
   "source": [
    "## Create your own dataset\n",
    "\n",
    "You need to state the ```name``` and ```num_classes``` of the dataset, and the your own dataset ```name```'s folder structure will be automatically defined in the ```/datasets``` directory by running the following cell.\n",
    "\n",
    "After running this module, put your images for each class into the train, val and test datasets. "
   ]
  },
  {
   "cell_type": "code",
   "execution_count": null,
   "metadata": {},
   "outputs": [],
   "source": [
    "import datasets.DIY_Dataset_initialization as DIY\n",
    "DIY.DIY_Dataset (GP_setup)"
   ]
  },
  {
   "cell_type": "markdown",
   "metadata": {},
   "source": [
    "# Experienments"
   ]
  },
  {
   "cell_type": "markdown",
   "metadata": {},
   "source": [
    "# References\n",
    "\n",
    "https://github.com/pytorch/vision/blob/main/torchvision/models/vgg.py  (VGG model)\n",
    "\n",
    "https://pytorch.org/vision/0.8/_modules/torchvision/models/resnet.html (ResNet model)\n",
    "\n",
    "https://github.com/zhulf0804/Inceptionv4_and_Inception-ResNetv2.PyTorch/blob/master/model/inceptionv4.py (Inception model)"
   ]
  }
 ],
 "metadata": {
  "kernelspec": {
   "display_name": "Python 3",
   "language": "python",
   "name": "python3"
  },
  "language_info": {
   "codemirror_mode": {
    "name": "ipython",
    "version": 3
   },
   "file_extension": ".py",
   "mimetype": "text/x-python",
   "name": "python",
   "nbconvert_exporter": "python",
   "pygments_lexer": "ipython3",
   "version": "3.8.5"
  },
  "vscode": {
   "interpreter": {
    "hash": "aee8b7b246df8f9039afb4144a1f6fd8d2ca17a180786b69acc140d282b71a49"
   }
  }
 },
 "nbformat": 4,
 "nbformat_minor": 4
}
