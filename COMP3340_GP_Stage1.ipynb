{
 "cells": [
  {
   "cell_type": "markdown",
   "metadata": {},
   "source": [
    "# COMP3340 Group Project Stage 1"
   ]
  },
  {
   "cell_type": "markdown",
   "metadata": {},
   "source": [
    "# Introduction"
   ]
  },
  {
   "cell_type": "markdown",
   "metadata": {},
   "source": [
    "Make sure you have followed the HKU CS GPU Farm setup guide in <a href=\"https://github.com/WuKunhuan/HKU_COMP3340/tree/main/HKU%20CS%20GPU%20Farm\" target=\"_blank\">HKU CS GPU Farm</a>. You should be able to view the JupyterLab of the virtual environment in a browser locally. Download this notebook from GitHub, and upload it to the virtual environment. After that, run the following setup module. "
   ]
  },
  {
   "cell_type": "markdown",
   "metadata": {},
   "source": [
    "# Run the setup"
   ]
  },
  {
   "cell_type": "code",
   "execution_count": null,
   "metadata": {},
   "outputs": [],
   "source": [
    "import codes.setup as setup\n",
    "GP_setup = setup.setup()"
   ]
  },
  {
   "cell_type": "code",
   "execution_count": null,
   "metadata": {},
   "outputs": [],
   "source": [
    "import codes.setup_default_dataset as setup_dataset\n",
    "GP_dataset_setup = setup_dataset.setup_default_dataset(GP_setup)"
   ]
  },
  {
   "cell_type": "markdown",
   "metadata": {},
   "source": [
    "# Setup dataset"
   ]
  },
  {
   "cell_type": "markdown",
   "metadata": {},
   "source": [
    "## Create Oxford 17 dataset\n",
    "* __Preparation__: Inside the ```configurations/dataset.txt``` file, state the ```name```, ```train_val_test``` and ```dataset_ratio```  of the dataset.\n",
    "* __Usage__: Setup an original Oxford 17 dataset (supports further modifications such as adding augmented images)"
   ]
  },
  {
   "cell_type": "code",
   "execution_count": null,
   "metadata": {},
   "outputs": [],
   "source": [
    "import codes.Oxford_17_Dataset as Oxford\n",
    "Oxford.Oxford_17_Dataset (GP_setup)"
   ]
  },
  {
   "cell_type": "markdown",
   "metadata": {},
   "source": [
    "## Create your own dataset\n",
    "* __Preparation__: Inside the ```configurations/dataset.txt``` file, state the ```name``` of the dataset.\n",
    "* __Usage__: After running this module, put your images for each class into the train, val and test datasets. "
   ]
  },
  {
   "cell_type": "code",
   "execution_count": null,
   "metadata": {},
   "outputs": [],
   "source": [
    "import codes.DIY_Dataset as DIY\n",
    "DIY.DIY_Dataset (GP_setup)"
   ]
  },
  {
   "cell_type": "markdown",
   "metadata": {},
   "source": [
    "# Import dataset\n",
    "* __Preparation__: Inside the ```configurations/import_dataset.txt``` file, state the ```name``` of the dataset to be imported. Inside the ```configurations/dataset_train_transform,txt``` ```configurations/dataset_val_transform,txt``` ```configurations/dataset_test_transform,txt```, change the Pytorch transformation to dataset images before they are fed to the model. \n",
    "* __Usage__: Run this module to import the dataset for training, validation and testing. "
   ]
  },
  {
   "cell_type": "code",
   "execution_count": null,
   "metadata": {},
   "outputs": [],
   "source": [
    "import codes.import_dataset as di\n",
    "dataset = di.import_dataset (GP_setup)"
   ]
  },
  {
   "cell_type": "markdown",
   "metadata": {},
   "source": [
    "# Train a model\n",
    "* __Basic models__\n",
    "\n",
    "```AlexNet``` still maintaining\n",
    "\n",
    "```VGG``` (VGG_11, VGG_13, VGG_16, VGG_19)\n",
    "\n",
    "```ResNet``` (ResNet_18, ResNet_34, ResNet_50)\n",
    "\n",
    "```Inception``` (Inception_V1, Inception_V4) still maintaining\n",
    "\n",
    "* __Preparation__: Select one basic model OR define your own image classification models and put it inside the ```models``` folder to train.\n",
    "\n",
    "Your model.py should contain the model class definition (including ```def __init__(self)``` and ```def forward(self, x)``` functions). \n",
    "\n",
    "Select the model and set training configurations by setting the ```configurations/model.txt```.\n",
    "\n",
    "* __Usage__: Run this module to train and save your trained model inside the ```trained_models``` folder. "
   ]
  },
  {
   "cell_type": "code",
   "execution_count": null,
   "metadata": {},
   "outputs": [],
   "source": [
    "import codes.train_model as train\n",
    "model = train.train_model(GP_setup, dataset)"
   ]
  },
  {
   "cell_type": "markdown",
   "metadata": {},
   "source": [
    "# Experienments"
   ]
  },
  {
   "cell_type": "markdown",
   "metadata": {},
   "source": [
    "# References\n",
    "\n",
    "https://github.com/pytorch/vision/blob/main/torchvision/models/vgg.py  (VGG model)\n",
    "\n",
    "https://pytorch.org/vision/0.8/_modules/torchvision/models/resnet.html (ResNet model)\n",
    "\n",
    "https://github.com/zhulf0804/Inceptionv4_and_Inception-ResNetv2.PyTorch/blob/master/model/inceptionv4.py (Inception model)"
   ]
  }
 ],
 "metadata": {
  "kernelspec": {
   "display_name": "Python 3",
   "language": "python",
   "name": "python3"
  },
  "language_info": {
   "codemirror_mode": {
    "name": "ipython",
    "version": 3
   },
   "file_extension": ".py",
   "mimetype": "text/x-python",
   "name": "python",
   "nbconvert_exporter": "python",
   "pygments_lexer": "ipython3",
   "version": "3.8.5"
  },
  "vscode": {
   "interpreter": {
    "hash": "aee8b7b246df8f9039afb4144a1f6fd8d2ca17a180786b69acc140d282b71a49"
   }
  }
 },
 "nbformat": 4,
 "nbformat_minor": 4
}
